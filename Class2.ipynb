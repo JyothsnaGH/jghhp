{
  "nbformat": 4,
  "nbformat_minor": 0,
  "metadata": {
    "colab": {
      "provenance": [],
      "authorship_tag": "ABX9TyP1kszdmdgRPQFvDToOxpYp",
      "include_colab_link": true
    },
    "kernelspec": {
      "name": "python3",
      "display_name": "Python 3"
    },
    "language_info": {
      "name": "python"
    }
  },
  "cells": [
    {
      "cell_type": "markdown",
      "metadata": {
        "id": "view-in-github",
        "colab_type": "text"
      },
      "source": [
        "<a href=\"https://colab.research.google.com/github/JyothsnaGH/jghhp/blob/main/Class2.ipynb\" target=\"_parent\"><img src=\"https://colab.research.google.com/assets/colab-badge.svg\" alt=\"Open In Colab\"/></a>"
      ]
    },
    {
      "cell_type": "code",
      "execution_count": null,
      "metadata": {
        "colab": {
          "base_uri": "https://localhost:8080/"
        },
        "id": "acCZkw3zy_iY",
        "outputId": "dba17443-b411-42a8-9dbf-06e795376e62"
      },
      "outputs": [
        {
          "output_type": "execute_result",
          "data": {
            "text/plain": [
              "{'first_name': 'Jane',\n",
              " 'last_name': 'Gretsky',\n",
              " 'nationality': 'Canada',\n",
              " 'birth_year': 1961}"
            ]
          },
          "metadata": {},
          "execution_count": 4
        }
      ],
      "source": [
        "# Create a dictionary\n",
        "\n",
        "person = {\n",
        "    \"first_name\": 'Wayne',\n",
        "    \"last_name\": 'Gretsky',\n",
        "    \"nationality\": 'Canada',\n",
        "    \"birth_year\": 1961\n",
        "}\n",
        "person['first_name']\n",
        "person['first_name'] = 'Jane' # We can change Wayne's name to Jane\n",
        "person"
      ]
    },
    {
      "cell_type": "markdown",
      "source": [
        "# EXERCISE: create a dictionary called car_type with your choice of a car brand, model, year, usnews_rating, and engine size."
      ],
      "metadata": {
        "id": "uTGbYVI40-6u"
      }
    },
    {
      "cell_type": "code",
      "source": [
        "## Write your answer here\n",
        "\n",
        "\n",
        "\n",
        "car_type = {\n",
        "    \"brand\": 'Toyota',\n",
        "    \"model\": 'Corolla',\n",
        "    \"year\": 2016,\n",
        "    \"rating\": 4.6,\n",
        "    'engine': 43\n",
        "}\n",
        "car_type['model']"
      ],
      "metadata": {
        "id": "7d2EwY1rR7Gu",
        "colab": {
          "base_uri": "https://localhost:8080/",
          "height": 35
        },
        "outputId": "cc68c607-e417-4d10-f994-a596d13db70b"
      },
      "execution_count": 4,
      "outputs": [
        {
          "output_type": "execute_result",
          "data": {
            "text/plain": [
              "'Corolla'"
            ],
            "application/vnd.google.colaboratory.intrinsic+json": {
              "type": "string"
            }
          },
          "metadata": {},
          "execution_count": 4
        }
      ]
    },
    {
      "cell_type": "code",
      "source": [
        "#LIST\n",
        "\n",
        "primes = [2, 3, 5, 7, 11]\n",
        "users = [\"Dillon\", \"Michael\", \"Lea\"]\n",
        "users[-1]"
      ],
      "metadata": {
        "colab": {
          "base_uri": "https://localhost:8080/",
          "height": 35
        },
        "id": "BvYVVKaB0HIg",
        "outputId": "f8e9be68-f083-4660-92a6-4a60391083e2"
      },
      "execution_count": 5,
      "outputs": [
        {
          "output_type": "execute_result",
          "data": {
            "text/plain": [
              "'Lea'"
            ],
            "application/vnd.google.colaboratory.intrinsic+json": {
              "type": "string"
            }
          },
          "metadata": {},
          "execution_count": 5
        }
      ]
    },
    {
      "cell_type": "code",
      "source": [
        "users[0] = 'Madison'\n",
        "users"
      ],
      "metadata": {
        "colab": {
          "base_uri": "https://localhost:8080/"
        },
        "id": "3yKbvSoL1Lp5",
        "outputId": "41607c34-4c8a-4b1d-97e7-fd339ad4a7e1"
      },
      "execution_count": 6,
      "outputs": [
        {
          "output_type": "execute_result",
          "data": {
            "text/plain": [
              "['Madison', 'Michael', 'Lea']"
            ]
          },
          "metadata": {},
          "execution_count": 6
        }
      ]
    },
    {
      "cell_type": "code",
      "source": [
        "users.append('Rachel')\n",
        "users"
      ],
      "metadata": {
        "colab": {
          "base_uri": "https://localhost:8080/"
        },
        "id": "JGn6Xr3C1LzM",
        "outputId": "0df01ebd-1448-4642-d6a7-f2e1fbce4c62"
      },
      "execution_count": 10,
      "outputs": [
        {
          "output_type": "execute_result",
          "data": {
            "text/plain": [
              "['Madison', 'Michael', 'Lea', 'Rachel', 'Rachel', 'Rachel', 'Rachel']"
            ]
          },
          "metadata": {},
          "execution_count": 10
        }
      ]
    },
    {
      "cell_type": "code",
      "source": [
        "users.pop()\n",
        "users"
      ],
      "metadata": {
        "colab": {
          "base_uri": "https://localhost:8080/"
        },
        "id": "CaEUb_3F8RUR",
        "outputId": "56d20949-de9c-4082-9a4d-66b267fe4d63"
      },
      "execution_count": 13,
      "outputs": [
        {
          "output_type": "execute_result",
          "data": {
            "text/plain": [
              "['Madison', 'Michael', 'Lea', 'Rachel']"
            ]
          },
          "metadata": {},
          "execution_count": 13
        }
      ]
    },
    {
      "cell_type": "code",
      "source": [
        "# List with dictionaries as each item\n",
        "\n",
        "products = [\n",
        "    {\"name\": \"IPhone 12\", \"price\": 949},\n",
        "    {\"name\": \"Fairphone\", \"price\": 419},\n",
        "    {\"name\": \"Pixel 5\", \"price\": 799}]"
      ],
      "metadata": {
        "id": "fW13F_OY8RYx"
      },
      "execution_count": null,
      "outputs": []
    },
    {
      "cell_type": "markdown",
      "source": [
        "# Create a list with dictionaries of 3 people with their names, ages, city of birth, and occupation."
      ],
      "metadata": {
        "id": "EyXkKbGcR2A-"
      }
    },
    {
      "cell_type": "code",
      "source": [
        "## Write your answer here\n",
        "\n",
        "people_work = [\n",
        "    {\"name\": \"Sam\", \"age\": 45, 'birthcity': 'Vancouver', 'occupation': 'welder'},\n",
        "    {\"name\": \"Eric\", \"age\": 19, 'birthcity': 'Mumbai', 'occupation': 'nurse'},\n",
        "    {\"name\": \"Gladys\", \"age\": 79, 'birthcity': 'Antwerp', 'occupation': 'engineer'}]\n",
        "\n",
        "people_work"
      ],
      "metadata": {
        "id": "pMpq0S0H8Rbn",
        "colab": {
          "base_uri": "https://localhost:8080/"
        },
        "outputId": "0760d629-0fd8-4c02-f2f6-d16da6e429de"
      },
      "execution_count": 19,
      "outputs": [
        {
          "output_type": "execute_result",
          "data": {
            "text/plain": [
              "[{'name': 'Sam', 'age': 45, 'birthcity': 'Vancouver', 'occupation': 'welder'},\n",
              " {'name': 'Eric', 'age': 19, 'birthcity': 'Mumbai', 'occupation': 'nurse'},\n",
              " {'name': 'Gladys',\n",
              "  'age': 79,\n",
              "  'birthcity': 'Antwerp',\n",
              "  'occupation': 'engineer'}]"
            ]
          },
          "metadata": {},
          "execution_count": 19
        }
      ]
    },
    {
      "cell_type": "markdown",
      "source": [
        "## Tuples\n"
      ],
      "metadata": {
        "id": "3yVFzLfdaV72"
      }
    },
    {
      "cell_type": "code",
      "source": [
        "point_dict = {\"x\": 2, \"y\": 4}\n",
        "point_tuple = (2, 4)\n",
        "\n",
        "date_dict = {\n",
        "  \"year\": 1973,\n",
        "  \"month\": 10,\n",
        "  \"day\": 23\n",
        "}\n",
        "date_tuple = (1973, 10, 23)\n",
        "\n",
        "date_tuple[0] # 1973\n",
        "len(date_tuple) # 3"
      ],
      "metadata": {
        "colab": {
          "base_uri": "https://localhost:8080/"
        },
        "id": "0VPc5WzySXUJ",
        "outputId": "7eec82fd-d6fd-4eae-8fc5-6283cbca5b66"
      },
      "execution_count": null,
      "outputs": [
        {
          "output_type": "execute_result",
          "data": {
            "text/plain": [
              "3"
            ]
          },
          "metadata": {},
          "execution_count": 3
        }
      ]
    },
    {
      "cell_type": "code",
      "source": [
        "a = [1, 2, 3]\n",
        "b = a\n",
        "b.append(4)\n",
        "a"
      ],
      "metadata": {
        "colab": {
          "base_uri": "https://localhost:8080/"
        },
        "id": "iLsiyl6SSXWu",
        "outputId": "db130adb-c2ff-4c4e-d0ef-b4162823b1d4"
      },
      "execution_count": null,
      "outputs": [
        {
          "output_type": "execute_result",
          "data": {
            "text/plain": [
              "[1, 2, 3, 4]"
            ]
          },
          "metadata": {},
          "execution_count": 9
        }
      ]
    },
    {
      "cell_type": "markdown",
      "source": [
        "OBJECT REFERENCES AND MUTATIONS"
      ],
      "metadata": {
        "id": "T_6Gi5uja-ko"
      }
    },
    {
      "cell_type": "code",
      "source": [
        "a = [1, 2, 3]\n",
        "b = a\n",
        "b.append(4)"
      ],
      "metadata": {
        "id": "RgDpPQkGa__W"
      },
      "execution_count": null,
      "outputs": []
    },
    {
      "cell_type": "code",
      "source": [
        "a = [1, 2, 3]\n",
        "# creating a new copy\n",
        "b = a.copy()\n",
        "# modifying b\n",
        "b.append(4)\n",
        "a"
      ],
      "metadata": {
        "colab": {
          "base_uri": "https://localhost:8080/"
        },
        "id": "B6VuiXhDbD1h",
        "outputId": "1b33e501-de91-403f-e265-d51ec28de904"
      },
      "execution_count": null,
      "outputs": [
        {
          "output_type": "execute_result",
          "data": {
            "text/plain": [
              "[1, 2, 3]"
            ]
          },
          "metadata": {},
          "execution_count": 11
        }
      ]
    },
    {
      "cell_type": "markdown",
      "source": [
        "## INPUT AND OUTPUT OF TEXT\n"
      ],
      "metadata": {
        "id": "9OzH0JvEeBOk"
      }
    },
    {
      "cell_type": "code",
      "source": [
        "print(\"What is your name?\")\n",
        "name = input()\n",
        "name\n",
        "print(\"Nice to meet you, \" + name)\n",
        "# name_length = len(name)\n",
        "# name_length"
      ],
      "metadata": {
        "colab": {
          "base_uri": "https://localhost:8080/"
        },
        "id": "BGmsRpmGbDx4",
        "outputId": "0ce06f6c-3ce3-439d-e746-1757eecc0804"
      },
      "execution_count": 21,
      "outputs": [
        {
          "output_type": "stream",
          "name": "stdout",
          "text": [
            "What is your name?\n",
            "Rocky\n",
            "Nice to meet you, Rocky\n"
          ]
        }
      ]
    },
    {
      "cell_type": "markdown",
      "source": [
        "## Write a program which will ask the user for their birth year and will respond with the user's age in the year 2025."
      ],
      "metadata": {
        "id": "pcf_eOQQfoUJ"
      }
    },
    {
      "cell_type": "code",
      "source": [
        "print(\"What is your birth year?\")\n",
        "birthyear = input()\n",
        "birthyear\n",
        "print(\"In 2025, you will be\", 2025 - int(birthyear))\n"
      ],
      "metadata": {
        "id": "EdUoqKqwbDq2",
        "colab": {
          "base_uri": "https://localhost:8080/"
        },
        "outputId": "29a8977e-017a-4114-b6f7-253fc863f66e"
      },
      "execution_count": 29,
      "outputs": [
        {
          "output_type": "stream",
          "name": "stdout",
          "text": [
            "What is your birth year?\n",
            "2001\n",
            "In 2025, you will be 24\n"
          ]
        }
      ]
    },
    {
      "cell_type": "code",
      "source": [
        "import random\n",
        "\n",
        "print(random.randint(1, 6))\n",
        "print(random.choice([\"heads\", \"tails\"]))"
      ],
      "metadata": {
        "colab": {
          "base_uri": "https://localhost:8080/"
        },
        "id": "RHSxKGpPbDoQ",
        "outputId": "76847429-7862-4de8-ef67-bc1d2867115d"
      },
      "execution_count": null,
      "outputs": [
        {
          "output_type": "stream",
          "name": "stdout",
          "text": [
            "2\n",
            "tails\n"
          ]
        }
      ]
    }
  ]
}